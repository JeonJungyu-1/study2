{
 "cells": [
  {
   "cell_type": "markdown",
   "id": "9fa81b73",
   "metadata": {},
   "source": [
    "진법변환"
   ]
  },
  {
   "cell_type": "code",
   "execution_count": 10,
   "id": "d1c9202a",
   "metadata": {},
   "outputs": [
    {
     "data": {
      "text/plain": [
       "['0', 'b', '1', '1', '0', '1']"
      ]
     },
     "execution_count": 10,
     "metadata": {},
     "output_type": "execute_result"
    }
   ],
   "source": [
    "num = 13\n",
    "list(bin(num))"
   ]
  },
  {
   "cell_type": "markdown",
   "id": "003d68c4",
   "metadata": {},
   "source": [
    "내일의 날짜 구하기"
   ]
  },
  {
   "cell_type": "code",
   "execution_count": 18,
   "id": "474656ce",
   "metadata": {},
   "outputs": [
    {
     "name": "stdout",
     "output_type": "stream",
     "text": [
      "['2018', '10', '2']\n",
      "2/2018/10\n"
     ]
    }
   ],
   "source": [
    "num = '2018 10 2'\n",
    "li = num.split(' ')\n",
    "print(li)\n",
    "print(f'{li[2]}/{li[0]}/{li[1]}')"
   ]
  },
  {
   "cell_type": "markdown",
   "id": "888d7ca4",
   "metadata": {},
   "source": [
    "숫자 읽기"
   ]
  },
  {
   "cell_type": "code",
   "execution_count": 23,
   "id": "64fcf30c",
   "metadata": {},
   "outputs": [
    {
     "data": {
      "text/plain": [
       "'이'"
      ]
     },
     "execution_count": 23,
     "metadata": {},
     "output_type": "execute_result"
    }
   ],
   "source": [
    "def korean_number(num):\n",
    "    dic = {1: '일', 2: '이', 3: '삼', 4: '사', 5: '오'}\n",
    "    return dic[num]\n",
    "korean_number(2)"
   ]
  },
  {
   "cell_type": "code",
   "execution_count": 32,
   "id": "3f2a75d0",
   "metadata": {},
   "outputs": [
    {
     "name": "stdout",
     "output_type": "stream",
     "text": [
      "{'신경발달장애': 'Neurodevelopmental Disorders', '조현병 스펙트럼 및 기타 정신병적 장애': 'Schizophrenia Spectrum and Other Psychotic Disorders', '양극성 및 관련 장애': 'Bipolar and Related Disorders', '우울장애': 'Depressive Disorders', '불안장애': 'Anxiety Disorder', '강박 및 관련 장애': 'Obsessive－Compulsive and Related Disorders', '외상 및 스트레스 관련 장애': 'Trauma－and Stressor－Related Disorders', '해리장애': 'Dissociative Disorders', '신체증상 및 관련 장애': 'Somatic Symptom and Related Disorders', '급식 및 섭식장애': 'Feeding and Eating Disorders', '배설장애': 'Elimination Disorders', '수면－각성 장애': 'Sleep－Wake Disorders', '성기능부전': 'Sexual Dysfunctions', '성별 불쾌감': 'Gender Dysphoria', '파괴적, 충동조절 및 품행 장애': 'Disruptive, Impulse－Control, and Conduct Disorders', '물질관련 및 중독 장애': 'Substance－Related and Addictive Disorders', '신경인지장애': 'Neurocognitive Disorders', '성격장애': 'Personality Disorders', '변태성욕장애': 'Paraphilic Disorders', '기타 정신질환': 'Other Mental Disorders'}\n"
     ]
    }
   ],
   "source": [
    "txt = '''신경발달장애 Neurodevelopmental Disorders\n",
    "조현병 스펙트럼 및 기타 정신병적 장애 Schizophrenia Spectrum and Other Psychotic Disorders\n",
    "양극성 및 관련 장애 Bipolar and Related Disorders\n",
    "우울장애 Depressive Disorders\n",
    "불안장애 Anxiety Disorder\n",
    "강박 및 관련 장애 Obsessive－Compulsive and Related Disorders\n",
    "외상 및 스트레스 관련 장애 Trauma－and Stressor－Related Disorders\n",
    "해리장애 Dissociative Disorders\n",
    "신체증상 및 관련 장애 Somatic Symptom and Related Disorders\n",
    "급식 및 섭식장애 Feeding and Eating Disorders\n",
    "배설장애 Elimination Disorders\n",
    "수면－각성 장애 Sleep－Wake Disorders\n",
    "성기능부전 Sexual Dysfunctions\n",
    "성별 불쾌감 Gender Dysphoria\n",
    "파괴적, 충동조절 및 품행 장애 Disruptive, Impulse－Control, and Conduct Disorders\n",
    "물질관련 및 중독 장애 Substance－Related and Addictive Disorders\n",
    "신경인지장애 Neurocognitive Disorders\n",
    "성격장애 Personality Disorders\n",
    "변태성욕장애 Paraphilic Disorders\n",
    "기타 정신질환 Other Mental Disorders'''\n",
    "\n",
    "dic = {}\n",
    "is_eng = lambda x: 65 <= ord(x) <= 90 or 97 <= ord(x) <= 122\n",
    "\n",
    "for l in txt.split('\\n'):\n",
    "    i = 0\n",
    "    while not is_eng(l[i]):\n",
    "        i += 1\n",
    "    else:\n",
    "        kor, eng = l[:i-1], l[i:]\n",
    "        dic[kor] = eng\n",
    "\n",
    "print(dic)"
   ]
  },
  {
   "cell_type": "code",
   "execution_count": null,
   "id": "d7c2c7e2",
   "metadata": {},
   "outputs": [],
   "source": []
  },
  {
   "cell_type": "code",
   "execution_count": null,
   "id": "657763ce",
   "metadata": {},
   "outputs": [],
   "source": []
  },
  {
   "cell_type": "code",
   "execution_count": null,
   "id": "1645b6a9",
   "metadata": {},
   "outputs": [],
   "source": []
  }
 ],
 "metadata": {
  "kernelspec": {
   "display_name": "Python 3 (ipykernel)",
   "language": "python",
   "name": "python3"
  },
  "language_info": {
   "codemirror_mode": {
    "name": "ipython",
    "version": 3
   },
   "file_extension": ".py",
   "mimetype": "text/x-python",
   "name": "python",
   "nbconvert_exporter": "python",
   "pygments_lexer": "ipython3",
   "version": "3.9.7"
  }
 },
 "nbformat": 4,
 "nbformat_minor": 5
}
